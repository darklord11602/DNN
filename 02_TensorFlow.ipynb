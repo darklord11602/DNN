{
  "cells": [
    {
      "attachments": {},
      "cell_type": "markdown",
      "metadata": {},
      "source": [
        "## TensorFlow 1 and TensorFlow 2"
      ]
    },
    {
      "cell_type": "markdown",
      "metadata": {
        "id": "RIQ_Adf1rptu"
      },
      "source": [
        "<strong> 1.\tDifferentiate tensorFlow 1 vs TensorFlow 2 </strong><br><br>\n",
        "TensorFlow 1 -\n",
        "1. Does not use eager execution by default.\n",
        "2. Uses symbolic placeholders to represent inputs to the graph.\n",
        "3. Difficult to debug as results are not evaluated imperatively.\n",
        "4. Needs to explicitly and manually create the data-flow graph.\n",
        "5. Needs to explicitly and manually create the data-flow graph. Results in poor readability of code due to having separate graph de nition and runtime code.<br><br>\n",
        "TensorFlow 2 -\n",
        "1. Uses eager execution by default.\n",
        "2. Directly feeds actual data (e.g., NumPy arrays) to the data- ow graph.\n",
        "3. Easy to debug as operations are evaluated imperatively.\n",
        "4. Has AutoGraph functionality, which traces TensorFlow operations and creates the graph automatically.\n",
        "5. Encourages object-oriented programming. Has better readability of code.\n"
      ]
    },
    {
      "cell_type": "markdown",
      "metadata": {
        "id": "4MdJv_lurwxE"
      },
      "source": [
        "<strong>2.\tWrite a program to arithmetic operations by using tensorflow2</strong>"
      ]
    },
    {
      "cell_type": "code",
      "execution_count": null,
      "metadata": {
        "colab": {
          "base_uri": "https://localhost:8080/"
        },
        "id": "JYseOHFCtVgY",
        "outputId": "1d292e00-00e5-4f4f-d355-dbbc3aab8f39"
      },
      "outputs": [
        {
          "name": "stdout",
          "output_type": "stream",
          "text": [
            "Addition:  tf.Tensor(70, shape=(), dtype=int32)\n",
            "Subtraction:  tf.Tensor(40, shape=(), dtype=int32)\n",
            "Multiplication:  tf.Tensor(1200, shape=(), dtype=int32)\n",
            "Division:  tf.Tensor(30.0, shape=(), dtype=float64)\n"
          ]
        }
      ],
      "source": [
        "import tensorflow as tf \n",
        "\n",
        "n1 = tf.constant(30) \n",
        "n2 = tf.constant(40) \n",
        "\n",
        "n_add = tf.add(n1,n2)\n",
        "\n",
        "n_subtract = tf.subtract(n_add,n1)\n",
        "\n",
        "n_multiply = tf.multiply(n1,n2)\n",
        "\n",
        "n_divide = tf.divide(n_multiply,n2)\n",
        "\n",
        "print(\"Addition: \",n_add)\n",
        "print(\"Subtraction: \",n_subtract)\n",
        "print(\"Multiplication: \",n_multiply)\n",
        "print(\"Division: \",n_divide)"
      ]
    },
    {
      "cell_type": "markdown",
      "metadata": {
        "id": "o_by2XfUrxAd"
      },
      "source": [
        "<strong>3.\tWrite a program to create a variable, constant in tensorflow2</strong>\n"
      ]
    },
    {
      "cell_type": "code",
      "execution_count": null,
      "metadata": {
        "colab": {
          "base_uri": "https://localhost:8080/"
        },
        "id": "9eWDBPkXwQXN",
        "outputId": "ec2443aa-b2da-4a52-933f-add73d6a784e"
      },
      "outputs": [
        {
          "name": "stdout",
          "output_type": "stream",
          "text": [
            "Variable:  <tf.Variable 'Variable:0' shape=() dtype=int32, numpy=5>\n",
            "Variable:  <tf.Variable 'Variable:0' shape=(4,) dtype=int32, numpy=array([1, 2, 3, 4], dtype=int32)>\n",
            "Constant:  tf.Tensor(6, shape=(), dtype=int32)\n"
          ]
        }
      ],
      "source": [
        "a = tf.Variable(5) \n",
        "print(\"Variable: \",a)\n",
        "\n",
        "b = tf.Variable([1,2,3,4]) \n",
        "print(\"Variable: \",b)\n",
        "\n",
        "c = tf.constant(6) \n",
        "print(\"Constant: \",c)"
      ]
    },
    {
      "cell_type": "markdown",
      "metadata": {
        "id": "ry-Z7JiLrxlM"
      },
      "source": [
        "<strong>4.\tWhat is placeholder? How to create a placeholder in tensorflow2</strong><br>\n",
        "Placeholders in Tensor ow:- A TensorFlow placeholder is simply a variable that we will assign data to at a later date. It allows us to create our operations and build our computation graph, without needing the data.<br>\n",
        "Syntax:  tf.compat.v1.placeholder(dtype, shape=None, name=None)\n"
      ]
    },
    {
      "cell_type": "markdown",
      "metadata": {
        "id": "8UpyKFTvrxSv"
      },
      "source": [
        "<strong>5.\tWrite a program to performing tensor reshaping and transposition in tensorflow </strong>"
      ]
    },
    {
      "cell_type": "code",
      "execution_count": null,
      "metadata": {
        "colab": {
          "base_uri": "https://localhost:8080/"
        },
        "id": "fwlAYlMOxeGo",
        "outputId": "38488f6c-e015-4942-8f94-3ea6c1e3459c"
      },
      "outputs": [
        {
          "name": "stdout",
          "output_type": "stream",
          "text": [
            "Shape of tensor a: (6,)\n",
            "Shape of tensor b: (2, 4)\n",
            "Tensor a after reshaping: (2, 3)\n",
            "Tensor b after reshaping: (4, 2)\n",
            "Transpose of X: \n",
            "shape of orignal tensor = <bound method Tensor.get_shape of <tf.Tensor 'Const_2:0' shape=(2, 4) dtype=int32>>\n",
            "Tensor(\"transpose:0\", shape=(4, 2), dtype=int32)\n"
          ]
        }
      ],
      "source": [
        "a=tf.constant([3,4,8,1,7,2]) #define a tensor of shape [6] \n",
        "b=tf.constant([[7,8,9,10],[4,5,6,7]]) #define a tensor of shape [2,4]\n",
        "print (\"Shape of tensor a:\", a.get_shape()) \n",
        "print (\"Shape of tensor b:\", b.get_shape()) \n",
        "aNew=tf.reshape(a, [2,3])\n",
        "bNew=tf.reshape(b, [4,2]) #store the output in new tensors\n",
        "print (\"Tensor a after reshaping:\", aNew.get_shape()) \n",
        "print (\"Tensor b after reshaping:\", bNew.get_shape())\n",
        "##### Transpose####### \n",
        "x = tf.constant([[1, 2, 3, 4], [5, 6, 7, 8]]) \n",
        "transposed_tensor = tf.transpose(x) \n",
        "print(\"Transpose of X: \")\n",
        "print(f'shape of orignal tensor = {x.get_shape}') \n",
        "print(transposed_tensor)\n"
      ]
    },
    {
      "cell_type": "markdown",
      "metadata": {
        "id": "VRl3N42Lr9ln"
      },
      "source": [
        "<strong>6.\tWrite a program to performing tensor multiplication (Matrix multiplication by using tensor) in tensorflow optimization</strong>"
      ]
    },
    {
      "cell_type": "code",
      "execution_count": null,
      "metadata": {
        "colab": {
          "base_uri": "https://localhost:8080/"
        },
        "id": "lFoB51ForSLD",
        "outputId": "096e75bd-86b8-4e53-c158-b1e43b8b662e"
      },
      "outputs": [
        {
          "data": {
            "text/plain": [
              "<tf.Tensor 'MatMul:0' shape=(3, 1) dtype=int32>"
            ]
          },
          "execution_count": 19,
          "metadata": {},
          "output_type": "execute_result"
        }
      ],
      "source": [
        "A1 = tf.constant([[2, 24], [2, 26], [2, 57]])\n",
        "B1 = tf.constant([[1000], [150]])\n",
        "C1 = tf.matmul(A1, B1)\n",
        "C1\n"
      ]
    },
    {
      "cell_type": "code",
      "execution_count": null,
      "metadata": {
        "id": "-HrEVJ7dxt2_"
      },
      "outputs": [],
      "source": []
    }
  ],
  "metadata": {
    "colab": {
      "provenance": []
    },
    "kernelspec": {
      "display_name": "Python 3",
      "name": "python3"
    },
    "language_info": {
      "name": "python"
    }
  },
  "nbformat": 4,
  "nbformat_minor": 0
}
