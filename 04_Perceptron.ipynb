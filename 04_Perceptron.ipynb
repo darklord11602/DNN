{
  "cells": [
    {
      "attachments": {},
      "cell_type": "markdown",
      "metadata": {},
      "source": [
        "## Perceptron"
      ]
    },
    {
      "attachments": {},
      "cell_type": "markdown",
      "metadata": {
        "id": "sqBwx4ZA5mQV"
      },
      "source": [
        "<strong>Program to create a single layer perceptron with following features</strong>\n",
        "1. Input layer. \n",
        "2. Hidden Layer. \n",
        "3. Weights \n",
        "4. Activation Function. \n",
        "5. Bias \n",
        "6. Output Layer<br>\n",
        "\n",
        "<strong>Theory</strong> : \n",
        "The perceptron is a single processing unit of any neural network it is used to classify \n",
        "its input into one or two categories \n",
        "The perceptron consists of 4 parts:\n",
        "1. Input value or One input layer: The input layer of the perceptron is made of \n",
        "artificial input neurons and takes the initial data into the system for further \n",
        "processing.\n",
        "2. Weight: It represents the dimension or strength of the connection between \n",
        "units. If the weight to node 1 to node 2 has a higher quantity, then neuron 1 \n",
        "has a more considerable influence on the neuron.\n",
        "3. Bias: It is the same as the intercept added in a linear equation. It is an \n",
        "additional parameter which task is to modify the output along with the weighted \n",
        "sum of the input to the other neuron.\n",
        "4. Net sum: It calculates the total sum.\n",
        "5. Activation Function: A neuron can be activated or not, is determined by an activation function. The activation function calculates a weighted sum and further adding bias with it to give the result."
      ]
    },
    {
      "cell_type": "code",
      "execution_count": null,
      "metadata": {
        "id": "dYVMGy6DltBn"
      },
      "outputs": [],
      "source": [
        "import numpy as np\n"
      ]
    },
    {
      "cell_type": "code",
      "execution_count": null,
      "metadata": {
        "id": "RXOwpfyllYE_"
      },
      "outputs": [],
      "source": [
        "class Perceptron:\n",
        "  def __init__(self,x_input,y_input,bias,threshold):\n",
        "    self.x_input = x_input\n",
        "    self.y_input = y_input\n",
        "    self.threshold = threshold\n",
        "    self.weight = [1,1]\n",
        "    self.bias = bias\n",
        "    \n",
        "  def activation_function(self,x):\n",
        "    if (x > threshold):\n",
        "      return 1\n",
        "    else:\n",
        "      return 0\n",
        "  \n",
        "  def perceptron(self,x_input,y_input):\n",
        "    for i in range(0,len(x_input)):\n",
        "      hidden_layer = self.weight[0]*x_input[i] + self.weight[1]*y_input[i] + self.bias\n",
        "      output = self.activation_function(hidden_layer)\n",
        "      print(f\"Inputs: {x_input[i]}  {y_input[i]}  Output: {output}\")\n",
        "    \n"
      ]
    },
    {
      "cell_type": "code",
      "execution_count": null,
      "metadata": {
        "colab": {
          "base_uri": "https://localhost:8080/"
        },
        "id": "9pt_IOCvrtGW",
        "outputId": "8f63bc9c-f3f7-46da-98f7-a238a23ff6bf"
      },
      "outputs": [
        {
          "name": "stdout",
          "output_type": "stream",
          "text": [
            "Inputs: 0  0  Output: 0\n",
            "Inputs: 0  1  Output: 1\n",
            "Inputs: 1  0  Output: 1\n",
            "Inputs: 1  1  Output: 1\n",
            "None\n"
          ]
        }
      ],
      "source": [
        "a = [0,0,1,1]\n",
        "b = [0,1,0,1]\n",
        "bias = 1\n",
        "threshold = 1.5\n",
        "\n",
        "perc = Perceptron(a,b,bias,threshold)\n",
        "print(perc.perceptron(a,b))"
      ]
    },
    {
      "cell_type": "code",
      "execution_count": null,
      "metadata": {
        "id": "SKMK9WOEsqM9"
      },
      "outputs": [],
      "source": []
    }
  ],
  "metadata": {
    "colab": {
      "provenance": []
    },
    "kernelspec": {
      "display_name": "Python 3",
      "name": "python3"
    },
    "language_info": {
      "name": "python"
    }
  },
  "nbformat": 4,
  "nbformat_minor": 0
}
