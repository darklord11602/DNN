{
  "cells": [
    {
      "attachments": {},
      "cell_type": "markdown",
      "metadata": {},
      "source": [
        "## Logistic Regression "
      ]
    },
    {
      "cell_type": "markdown",
      "metadata": {
        "id": "pBTBtPFZRjRr"
      },
      "source": [
        "1. Importing libraries"
      ]
    },
    {
      "cell_type": "code",
      "execution_count": null,
      "metadata": {
        "id": "T8dzhXS4RiII"
      },
      "outputs": [],
      "source": [
        "import tensorflow as tf\n",
        "import pandas as pd\n",
        "import matplotlib.pyplot as plt\n",
        "from sklearn.model_selection import train_test_split"
      ]
    },
    {
      "cell_type": "markdown",
      "metadata": {
        "id": "aiQ6O20oRuRC"
      },
      "source": [
        "2. Loading, visualizing and exploring the dataset"
      ]
    },
    {
      "cell_type": "code",
      "execution_count": null,
      "metadata": {
        "colab": {
          "base_uri": "https://localhost:8080/",
          "height": 502
        },
        "id": "tzKPgjBmR2m9",
        "outputId": "089187fd-4054-44b6-e07b-2835d4397834"
      },
      "outputs": [
        {
          "name": "stdout",
          "output_type": "stream",
          "text": [
            "Downloading data from https://storage.googleapis.com/tensorflow/tf-keras-datasets/mnist.npz\n",
            "11490434/11490434 [==============================] - 0s 0us/step\n",
            "(60000, 28, 28)\n",
            "(60000,)\n"
          ]
        },
        {
          "data": {
            "image/png": "[encoded data removed]",
            "text/plain": [
              "<Figure size 640x480 with 1 Axes>"
            ]
          },
          "metadata": {},
          "output_type": "display_data"
        }
      ],
      "source": [
        "mnist = tf.keras.datasets.mnist\n",
        "(X_train_full, y_train_full), (X_test, y_test) = mnist.load_data()\n",
        "\n",
        "print(X_train_full.shape)\n",
        "print(y_train_full.shape)\n",
        "\n",
        "plt.imshow(X_train_full[0], cmap='binary')\n",
        "plt.show()"
      ]
    },
    {
      "cell_type": "markdown",
      "metadata": {
        "id": "ayQGkBtdRuNa"
      },
      "source": [
        "3. Split data into training and testing datasets"
      ]
    },
    {
      "cell_type": "code",
      "execution_count": null,
      "metadata": {
        "id": "_HKFHoS2SH2O"
      },
      "outputs": [],
      "source": [
        "X_train, X_val, y_train, y_val = train_test_split(X_train_full, y_train_full, test_size=0.2, random_state=42)"
      ]
    },
    {
      "cell_type": "markdown",
      "metadata": {
        "id": "5l0HvjRQSJHY"
      },
      "source": [
        "4. Fit logistic regression model"
      ]
    },
    {
      "cell_type": "code",
      "execution_count": null,
      "metadata": {
        "colab": {
          "base_uri": "https://localhost:8080/"
        },
        "id": "3S54mfbLSNUf",
        "outputId": "16cade92-a267-4c39-a726-ebf86038a832"
      },
      "outputs": [
        {
          "name": "stdout",
          "output_type": "stream",
          "text": [
            "Epoch 1/30\n",
            "1500/1500 [==============================] - 11s 7ms/step - loss: 333.6265 - accuracy: 0.8375 - val_loss: 217.2793 - val_accuracy: 0.8864\n",
            "Epoch 2/30\n",
            "1500/1500 [==============================] - 4s 3ms/step - loss: 268.0096 - accuracy: 0.8645 - val_loss: 242.1269 - val_accuracy: 0.8784\n",
            "Epoch 3/30\n",
            "1500/1500 [==============================] - 2s 2ms/step - loss: 256.1584 - accuracy: 0.8709 - val_loss: 265.7498 - val_accuracy: 0.8660\n",
            "Epoch 4/30\n",
            "1500/1500 [==============================] - 2s 1ms/step - loss: 241.2811 - accuracy: 0.8768 - val_loss: 279.3845 - val_accuracy: 0.8601\n",
            "Epoch 5/30\n",
            "1500/1500 [==============================] - 3s 2ms/step - loss: 242.1805 - accuracy: 0.8771 - val_loss: 249.6839 - val_accuracy: 0.8817\n",
            "Epoch 6/30\n",
            "1500/1500 [==============================] - 2s 1ms/step - loss: 236.3786 - accuracy: 0.8809 - val_loss: 313.1232 - val_accuracy: 0.8462\n",
            "Epoch 7/30\n",
            "1500/1500 [==============================] - 2s 1ms/step - loss: 234.3745 - accuracy: 0.8815 - val_loss: 287.3358 - val_accuracy: 0.8642\n",
            "Epoch 8/30\n",
            "1500/1500 [==============================] - 2s 1ms/step - loss: 232.2387 - accuracy: 0.8813 - val_loss: 249.0974 - val_accuracy: 0.8860\n",
            "Epoch 9/30\n",
            "1500/1500 [==============================] - 2s 1ms/step - loss: 228.1727 - accuracy: 0.8824 - val_loss: 226.6311 - val_accuracy: 0.8915\n",
            "Epoch 10/30\n",
            "1500/1500 [==============================] - 3s 2ms/step - loss: 234.0179 - accuracy: 0.8823 - val_loss: 226.7349 - val_accuracy: 0.8972\n",
            "Epoch 11/30\n",
            "1500/1500 [==============================] - 2s 1ms/step - loss: 230.6024 - accuracy: 0.8839 - val_loss: 228.2624 - val_accuracy: 0.8903\n",
            "Epoch 12/30\n",
            "1500/1500 [==============================] - 2s 2ms/step - loss: 226.0347 - accuracy: 0.8842 - val_loss: 273.7483 - val_accuracy: 0.8614\n",
            "Epoch 13/30\n",
            "1500/1500 [==============================] - 2s 1ms/step - loss: 232.8595 - accuracy: 0.8821 - val_loss: 503.9195 - val_accuracy: 0.8274\n",
            "Epoch 14/30\n",
            "1500/1500 [==============================] - 2s 1ms/step - loss: 224.4203 - accuracy: 0.8865 - val_loss: 261.7238 - val_accuracy: 0.8813\n",
            "Epoch 15/30\n",
            "1500/1500 [==============================] - 2s 2ms/step - loss: 221.0400 - accuracy: 0.8858 - val_loss: 269.4820 - val_accuracy: 0.8688\n",
            "Epoch 16/30\n",
            "1500/1500 [==============================] - 2s 2ms/step - loss: 225.6329 - accuracy: 0.8858 - val_loss: 235.3595 - val_accuracy: 0.8857\n",
            "Epoch 17/30\n",
            "1500/1500 [==============================] - 2s 1ms/step - loss: 231.9073 - accuracy: 0.8857 - val_loss: 250.5912 - val_accuracy: 0.8844\n",
            "Epoch 18/30\n",
            "1500/1500 [==============================] - 2s 1ms/step - loss: 221.2014 - accuracy: 0.8873 - val_loss: 249.4553 - val_accuracy: 0.8838\n",
            "Epoch 19/30\n",
            "1500/1500 [==============================] - 2s 2ms/step - loss: 223.1975 - accuracy: 0.8875 - val_loss: 231.1177 - val_accuracy: 0.8901\n",
            "Epoch 20/30\n",
            "1500/1500 [==============================] - 2s 2ms/step - loss: 224.6755 - accuracy: 0.8870 - val_loss: 262.7658 - val_accuracy: 0.8725\n",
            "Epoch 21/30\n",
            "1500/1500 [==============================] - 2s 2ms/step - loss: 220.9472 - accuracy: 0.8883 - val_loss: 219.7363 - val_accuracy: 0.8964\n",
            "Epoch 22/30\n",
            "1500/1500 [==============================] - 2s 2ms/step - loss: 225.3303 - accuracy: 0.8868 - val_loss: 351.5211 - val_accuracy: 0.8486\n",
            "Epoch 23/30\n",
            "1500/1500 [==============================] - 4s 3ms/step - loss: 220.4252 - accuracy: 0.8873 - val_loss: 294.5855 - val_accuracy: 0.8531\n",
            "Epoch 24/30\n",
            "1500/1500 [==============================] - 2s 2ms/step - loss: 221.7800 - accuracy: 0.8869 - val_loss: 210.3181 - val_accuracy: 0.9000\n",
            "Epoch 25/30\n",
            "1500/1500 [==============================] - 3s 2ms/step - loss: 218.1018 - accuracy: 0.8879 - val_loss: 248.5252 - val_accuracy: 0.8852\n",
            "Epoch 26/30\n",
            "1500/1500 [==============================] - 2s 2ms/step - loss: 220.2365 - accuracy: 0.8879 - val_loss: 440.5151 - val_accuracy: 0.8201\n",
            "Epoch 27/30\n",
            "1500/1500 [==============================] - 2s 2ms/step - loss: 223.7586 - accuracy: 0.8874 - val_loss: 266.2958 - val_accuracy: 0.8772\n",
            "Epoch 28/30\n",
            "1500/1500 [==============================] - 2s 2ms/step - loss: 216.9413 - accuracy: 0.8879 - val_loss: 278.4731 - val_accuracy: 0.8719\n",
            "Epoch 29/30\n",
            "1500/1500 [==============================] - 2s 2ms/step - loss: 215.9241 - accuracy: 0.8901 - val_loss: 218.1924 - val_accuracy: 0.9058\n",
            "Epoch 30/30\n",
            "1500/1500 [==============================] - 2s 2ms/step - loss: 218.0369 - accuracy: 0.8890 - val_loss: 319.1908 - val_accuracy: 0.8522\n"
          ]
        }
      ],
      "source": [
        "model = tf.keras.models.Sequential([\n",
        "    tf.keras.layers.Flatten(input_shape=(28, 28)),\n",
        "    tf.keras.layers.Dense(10, activation=\"softmax\")\n",
        "])\n",
        "\n",
        "model.compile(loss=\"sparse_categorical_crossentropy\",\n",
        "              optimizer=\"sgd\",\n",
        "              metrics=[\"accuracy\"])\n",
        "\n",
        "history = model.fit(X_train, y_train, epochs=30,\n",
        "                    validation_data=(X_val, y_val))"
      ]
    },
    {
      "cell_type": "markdown",
      "metadata": {
        "id": "WOLuaZbBSRkF"
      },
      "source": [
        "5. Apply model on test data and make prediction"
      ]
    },
    {
      "cell_type": "code",
      "execution_count": null,
      "metadata": {
        "colab": {
          "base_uri": "https://localhost:8080/"
        },
        "id": "0GsSL0kPSemr",
        "outputId": "c6269a77-5667-4aec-efbc-8bd6ab8268a5"
      },
      "outputs": [
        {
          "name": "stdout",
          "output_type": "stream",
          "text": [
            "313/313 [==============================] - 0s 908us/step\n"
          ]
        }
      ],
      "source": [
        "predictions = model.predict(X_test)"
      ]
    },
    {
      "cell_type": "markdown",
      "metadata": {
        "id": "QN_vBxkKSiAO"
      },
      "source": [
        "6. Evaluate the model"
      ]
    },
    {
      "cell_type": "code",
      "execution_count": null,
      "metadata": {
        "colab": {
          "base_uri": "https://localhost:8080/"
        },
        "id": "HXsgl_PvSkpw",
        "outputId": "6b0287a0-657b-4186-cdea-713b9c3d5ede"
      },
      "outputs": [
        {
          "name": "stdout",
          "output_type": "stream",
          "text": [
            "313/313 [==============================] - 0s 1ms/step - loss: 312.3888 - accuracy: 0.8509\n",
            "Test Loss: 312.389\n",
            "Test Accuracy: 0.851\n"
          ]
        }
      ],
      "source": [
        "test_loss, test_accuracy = model.evaluate(X_test, y_test)\n",
        "\n",
        "print(f\"Test Loss: {test_loss:.3f}\")\n",
        "print(f\"Test Accuracy: {test_accuracy:.3f}\")"
      ]
    }
  ],
  "metadata": {
    "colab": {
      "provenance": []
    },
    "kernelspec": {
      "display_name": "Python 3",
      "name": "python3"
    },
    "language_info": {
      "name": "python"
    }
  },
  "nbformat": 4,
  "nbformat_minor": 0
}
