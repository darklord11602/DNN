{
  "cells": [
    {
      "attachments": {},
      "cell_type": "markdown",
      "metadata": {},
      "source": [
        "## Python Libraries for DNN"
      ]
    },
    {
      "cell_type": "markdown",
      "metadata": {
        "id": "uI3kfI0bpdE1"
      },
      "source": [
        "<strong>TENSORFLOW </strong>:<br>\n",
        "TensorFlow is an end-to-end open-source machine learning platform with a focus on deep neural networks. Deep learning is a subtype of machine learning that analyses massive amounts of unstructured data.<br>\n",
        "Some of the main features are:<br>\n",
        "Flexible architecture and framework., Runs on a variety of computational platforms. , Abstraction capabilities, Manages deep neural networks. "
      ]
    },
    {
      "cell_type": "code",
      "execution_count": null,
      "metadata": {
        "colab": {
          "base_uri": "https://localhost:8080/"
        },
        "id": "2gRBhNH8pcfZ",
        "outputId": "7829fcb0-2f2f-49e0-e7de-38a3e290a414"
      },
      "outputs": [
        {
          "name": "stdout",
          "output_type": "stream",
          "text": [
            "Tensorflow version: 2.9.2\n"
          ]
        }
      ],
      "source": [
        "import tensorflow as tf\n",
        "print(\"Tensorflow version:\",tf.__version__)"
      ]
    },
    {
      "cell_type": "markdown",
      "metadata": {
        "id": "bAiTKKA7qVrY"
      },
      "source": [
        "<strong>MATPLOTLIB </strong>:<br> \n",
        "Matplotlib is a Python library that helps in visualizing and analyzing the data and helps in better understanding of the data with the help of \n",
        "graphical, pictorial visualizations that can be simulated using the matplotlib library.<br>\n",
        "Matplotlib is a comprehensive library for static, animated and interactive visualizations<br>\n",
        "\n"
      ]
    },
    {
      "cell_type": "markdown",
      "metadata": {
        "id": "sfk-B4OymAwl"
      },
      "source": [
        "<strong> Theano</strong>:<br>\n",
        "Theano is a Python library that allows us to evaluate mathematical operations including multi-dimensional arrays so easily.<br>\n",
        "It is mostly used in building Deep Learning Projects. It works a way more faster on Graphics Processing Unit (GPU) rather than on CPU.<br>\n",
        "Some main features of theano are: <br>\n",
        "Built-in validation and unit testing tools, High-performing mathematical computations, Fast and stable evaluations, Data-intensive calculations."
      ]
    },
    {
      "cell_type": "markdown",
      "metadata": {
        "id": "bieYaHxnoIti"
      },
      "source": [
        "<strong>PyTorch</strong> :<br> \n",
        "PyTorch is de ned as an open source machine learning library for Python. It is used for applications such as natural language processing.<br>\n",
        "PyTorch redesigns and implements Torch in Python while sharing the same core C libraries for the backend code. PyTorch developers tuned this back-end \n",
        "code to run Python efficiently.<br>\n",
        "Some of the main features are:<br>\n",
        "Statistical distribution and operations, Control over datasets, Development of deep learning models, Highly flexible."
      ]
    },
    {
      "cell_type": "code",
      "execution_count": null,
      "metadata": {
        "colab": {
          "base_uri": "https://localhost:8080/"
        },
        "id": "p7-uVKnWmzYq",
        "outputId": "1e65a346-b6b8-43ef-d08c-0f6628007a8c"
      },
      "outputs": [
        {
          "name": "stdout",
          "output_type": "stream",
          "text": [
            "Random Tensor:\n",
            "tensor([[0.2873, 0.0983, 0.7369],\n",
            "        [0.4039, 0.1678, 0.4884]])\n",
            "\n",
            "Ones Tensor:\n",
            "tensor([[1., 1., 1.],\n",
            "        [1., 1., 1.]])\n",
            "\n",
            "Zeros Tensor:\n",
            "tensor([[0., 0., 0.],\n",
            "        [0., 0., 0.]])\n",
            "\n"
          ]
        }
      ],
      "source": [
        "import torch\n",
        "shape=(2,3,) \n",
        "rand_tensor=torch.rand(shape) \n",
        "ones_tensor=torch.ones(shape) \n",
        "zeros_tensor=torch.zeros(shape)\n",
        "print(f\"Random Tensor:\\n{rand_tensor}\\n\") \n",
        "print(f\"Ones Tensor:\\n{ones_tensor}\\n\") \n",
        "print(f\"Zeros Tensor:\\n{zeros_tensor}\\n\")"
      ]
    },
    {
      "cell_type": "markdown",
      "metadata": {
        "id": "uqgSGZlwozc_"
      },
      "source": [
        "<strong>PANDAS</strong> :<br> \n",
        "Pandas is an open-source library that is made mainly for working with relational or labeled data both easily and intuitively.<br>\n",
        "It provides various data structures and operations for manipulating numerical data and time series.<br>\n",
        "some of the main features are:<br>\n",
        "Indexing of data, Data alignment, Merging/joining of datasets, Data manipulation and analysis.\n"
      ]
    },
    {
      "cell_type": "code",
      "execution_count": null,
      "metadata": {
        "colab": {
          "base_uri": "https://localhost:8080/"
        },
        "id": "AGaya3nipTiM",
        "outputId": "a0e9669c-c6e3-414e-9917-095a2554b22d"
      },
      "outputs": [
        {
          "name": "stdout",
          "output_type": "stream",
          "text": [
            "  country   capital\n",
            "0  brazil  brasilia\n",
            "1  russia    moscow\n"
          ]
        }
      ],
      "source": [
        "import pandas as pd \n",
        "data={\"country\":[\"brazil\",\"russia\"],\"capital\":[\"brasilia\",\"moscow\"]} \n",
        "data_table=pd.DataFrame(data) \n",
        "print(data_table)"
      ]
    },
    {
      "cell_type": "markdown",
      "metadata": {
        "id": "2NpsaGf2fXtE"
      },
      "source": [
        "<strong>Numpy</strong><br>\n",
        "1. Numpy is a Python library\n",
        "2. Numpy is used for working with arrays\n",
        "3. Numpy is short for \"Numerical python\"<br>\n",
        "Some main features of numpy are:<br><br>\n",
        "Shape manipulation, high performance N-dimensional array object, data cleaning/manipulation, statistical operations and linear algebra "
      ]
    },
    {
      "cell_type": "code",
      "execution_count": null,
      "metadata": {
        "colab": {
          "base_uri": "https://localhost:8080/"
        },
        "id": "_9lTv1ZPfGT5",
        "outputId": "a62ec8ed-fd4f-475e-f3e8-d1a2b7c655b3"
      },
      "outputs": [
        {
          "name": "stdout",
          "output_type": "stream",
          "text": [
            "[[ 1  2  3  4  5]\n",
            " [ 6  7  8  9 10]]\n",
            "Array is of type:  <class 'numpy.ndarray'>\n",
            "No. of dimensions:  2\n",
            "Shape of array:  (2, 5)\n",
            "Size of array:  10\n",
            "Array stores elements of type:  int64\n"
          ]
        }
      ],
      "source": [
        "import numpy as np\n",
        "arr = np.array ([[1,2,3,4,5],[6,7,8,9,10]])\n",
        "print(arr)\n",
        "print(\"Array is of type: \", type(arr)) \n",
        "print(\"No. of dimensions: \", arr.ndim) \n",
        "print(\"Shape of array: \", arr.shape)\n",
        "print(\"Size of array: \", arr.size) \n",
        "print(\"Array stores elements of type: \", arr.dtype)\n"
      ]
    },
    {
      "cell_type": "markdown",
      "metadata": {
        "id": "9GPv_RZojfqF"
      },
      "source": [
        "<strong>Scipy</strong><br>\n",
        "SciPy is a scienti c computation library that uses NumPy underneath. SciPy stands for Scienti c Python.<br>\n",
        "It provides more utility functions for optimization, stats and signal processing. Like NumPy, SciPy is open source so we can use it freely<br>\n",
        "It is user friendly, data visualization and manipulation, scientific and technical analysis and computes large datasets\n"
      ]
    },
    {
      "cell_type": "code",
      "execution_count": null,
      "metadata": {
        "colab": {
          "base_uri": "https://localhost:8080/"
        },
        "id": "mKaACw3agCHO",
        "outputId": "51c1eabe-e956-4f66-a14d-80b94f51e924"
      },
      "outputs": [
        {
          "name": "stdout",
          "output_type": "stream",
          "text": [
            "3.141592653589793\n"
          ]
        }
      ],
      "source": [
        "from scipy import constants \n",
        "print(constants.pi)"
      ]
    },
    {
      "cell_type": "markdown",
      "metadata": {
        "id": "ynnJqH6qkW93"
      },
      "source": [
        "<strong>SCIKIT-LEARN</strong> :<br>\n",
        "Scikit-learn is an open source data analysis library, and the gold standard for Machine Learning (ML) in the Python ecosystem.<br>\n",
        "Key concepts and features include: Algorithmic decision-making methods, including: Classi cation: identifying and categorizing data based on patterns,Data classification and modeling, End-to-end machine learning algorithms, Pre-processing of data, Model selection.\n"
      ]
    },
    {
      "cell_type": "code",
      "execution_count": null,
      "metadata": {
        "colab": {
          "base_uri": "https://localhost:8080/"
        },
        "id": "lNKCCHn-lFxl",
        "outputId": "f4a44889-f567-4ee7-b8ef-108efbf20a80"
      },
      "outputs": [
        {
          "name": "stdout",
          "output_type": "stream",
          "text": [
            "(1797, 64)\n"
          ]
        }
      ],
      "source": [
        "from sklearn import datasets \n",
        "digits=datasets.load_digits() \n",
        "print(digits.data.shape)"
      ]
    },
    {
      "cell_type": "code",
      "execution_count": null,
      "metadata": {
        "colab": {
          "base_uri": "https://localhost:8080/"
        },
        "id": "riqbW0vikTT2",
        "outputId": "98920a3b-abe6-4601-e4b1-6bf5e395f6ef"
      },
      "outputs": [
        {
          "name": "stdout",
          "output_type": "stream",
          "text": [
            "Feature names: ['sepal length (cm)', 'sepal width (cm)', 'petal length (cm)', 'petal width (cm)']\n",
            "Target names: ['setosa' 'versicolor' 'virginica']\n",
            "\n",
            "Type of X is: <class 'numpy.ndarray'>\n",
            "\n",
            "First 5 rows of X:\n",
            " [[5.1 3.5 1.4 0.2]\n",
            " [4.9 3.  1.4 0.2]\n",
            " [4.7 3.2 1.3 0.2]\n",
            " [4.6 3.1 1.5 0.2]\n",
            " [5.  3.6 1.4 0.2]]\n"
          ]
        }
      ],
      "source": [
        "from sklearn.datasets import load_iris \n",
        "iris = load_iris()\n",
        "X = iris.data \n",
        "y = iris.target\n",
        "feature_names = iris.feature_names \n",
        "target_names = iris.target_names\n",
        "print(\"Feature names:\", feature_names) \n",
        "print(\"Target names:\", target_names)\n",
        "print(\"\\nType of X is:\", type(X))\n",
        "print(\"\\nFirst 5 rows of X:\\n\", X[:5])\n"
      ]
    }
  ],
  "metadata": {
    "colab": {
      "provenance": []
    },
    "kernelspec": {
      "display_name": "Python 3",
      "name": "python3"
    },
    "language_info": {
      "name": "python"
    }
  },
  "nbformat": 4,
  "nbformat_minor": 0
}
