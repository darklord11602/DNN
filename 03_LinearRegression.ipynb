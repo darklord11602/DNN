{
  "cells": [
    {
      "attachments": {},
      "cell_type": "markdown",
      "metadata": {},
      "source": [
        "## Linear regression model with TensorFlow"
      ]
    },
    {
      "attachments": {},
      "cell_type": "markdown",
      "metadata": {
        "id": "wwfWbQ4t4RH2"
      },
      "source": [
        " Write a program to create a random 50 data points (X,Y)  plot data points and add some noise in data set and apply linear regression use epoch=100 and check the result ,epoch=500 check result and plot graph."
      ]
    },
    {
      "cell_type": "code",
      "execution_count": null,
      "metadata": {
        "colab": {
          "base_uri": "https://localhost:8080/"
        },
        "id": "xxq07un84kGN",
        "outputId": "6cd2ffdb-bf5d-4e5b-dec7-609029b2f921"
      },
      "outputs": [
        {
          "name": "stderr",
          "output_type": "stream",
          "text": [
            "WARNING:tensorflow:From /usr/local/lib/python3.8/dist-packages/tensorflow/python/compat/v2_compat.py:107: disable_resource_variables (from tensorflow.python.ops.variable_scope) is deprecated and will be removed in a future version.\n",
            "Instructions for updating:\n",
            "non-resource variables are not supported in the long term\n"
          ]
        }
      ],
      "source": [
        "import numpy as np \n",
        "import pandas as pd\n",
        "import tensorflow as tf \n",
        "import matplotlib.pyplot as plt\n",
        "import tensorflow.compat.v1 as tf\n",
        "tf.disable_v2_behavior()"
      ]
    },
    {
      "cell_type": "code",
      "execution_count": null,
      "metadata": {
        "id": "mSJTYspX5gRe"
      },
      "outputs": [],
      "source": [
        "np.random.seed(101)\n",
        "tf.set_random_seed(101)"
      ]
    },
    {
      "cell_type": "code",
      "execution_count": null,
      "metadata": {
        "id": "sDeFnnqy5m0Q"
      },
      "outputs": [],
      "source": [
        "x = np.linspace(0,50,50)\n",
        "y = np.linspace(0,50,50)"
      ]
    },
    {
      "cell_type": "code",
      "execution_count": null,
      "metadata": {
        "id": "hkCHf56-5mtl"
      },
      "outputs": [],
      "source": [
        "x += np.random.uniform(-4, 4, 50)\n",
        "y += np.random.uniform(-4,4,50)"
      ]
    },
    {
      "cell_type": "code",
      "execution_count": null,
      "metadata": {
        "colab": {
          "base_uri": "https://localhost:8080/"
        },
        "id": "F2dUV2I-5mmz",
        "outputId": "acc80e91-9eb8-46ac-87e8-3e61b17f7ad8"
      },
      "outputs": [
        {
          "data": {
            "text/plain": [
              "50"
            ]
          },
          "execution_count": 5,
          "metadata": {},
          "output_type": "execute_result"
        }
      ],
      "source": [
        "n = len(x)\n",
        "n"
      ]
    },
    {
      "cell_type": "code",
      "execution_count": null,
      "metadata": {
        "colab": {
          "base_uri": "https://localhost:8080/",
          "height": 295
        },
        "id": "cqCi7CaJ5mck",
        "outputId": "ed8cb47a-b348-4856-9791-60786cdebd61"
      },
      "outputs": [
        {
          "data": {
            "image/png": "[encoded data removed]",
            "text/plain": [
              "<Figure size 432x288 with 1 Axes>"
            ]
          },
          "metadata": {
            "needs_background": "light"
          },
          "output_type": "display_data"
        }
      ],
      "source": [
        "plt.scatter(x,y)\n",
        "plt.xlabel('x')\n",
        "plt.ylabel('y')\n",
        "plt.title(\"Training data\")\n",
        "plt.show()"
      ]
    },
    {
      "cell_type": "code",
      "execution_count": null,
      "metadata": {
        "id": "BAakrH1P7Tsh"
      },
      "outputs": [],
      "source": [
        "X = tf.placeholder(\"float\")\n",
        "Y = tf.placeholder(\"float\")"
      ]
    },
    {
      "cell_type": "code",
      "execution_count": null,
      "metadata": {
        "id": "pRo8n1Kx7Tpz"
      },
      "outputs": [],
      "source": [
        "W = tf.Variable(np.random.randn(), name = \"W\")\n",
        "b = tf.Variable(np.random.randn(), name = \"b\")"
      ]
    },
    {
      "cell_type": "code",
      "execution_count": null,
      "metadata": {
        "id": "-OXZ8cGC7TnT"
      },
      "outputs": [],
      "source": [
        "learning_rate = 0.01\n",
        "training_epochs = 1000"
      ]
    },
    {
      "cell_type": "code",
      "execution_count": null,
      "metadata": {
        "id": "0oCaBqvd7dBk"
      },
      "outputs": [],
      "source": [
        "y_pred = tf.add(tf.multiply(X,W),b)"
      ]
    },
    {
      "cell_type": "code",
      "execution_count": null,
      "metadata": {
        "id": "sKv96oJS7c-8"
      },
      "outputs": [],
      "source": [
        "cost = tf.reduce_sum(tf.pow(y_pred - Y, 2))/ (2*n)"
      ]
    },
    {
      "cell_type": "code",
      "execution_count": null,
      "metadata": {
        "id": "URk3UJWU7c8e"
      },
      "outputs": [],
      "source": [
        "optimizer = tf.train.GradientDescentOptimizer(learning_rate).minimize(cost)"
      ]
    },
    {
      "cell_type": "code",
      "execution_count": null,
      "metadata": {
        "id": "IGFf01qK7iWd"
      },
      "outputs": [],
      "source": [
        "init = tf.global_variables_initializer()"
      ]
    },
    {
      "cell_type": "code",
      "execution_count": null,
      "metadata": {
        "colab": {
          "base_uri": "https://localhost:8080/"
        },
        "id": "0W7OgyOO7iUO",
        "outputId": "57e3f67d-a6be-405c-9faa-8b4801f33045"
      },
      "outputs": [
        {
          "name": "stdout",
          "output_type": "stream",
          "text": [
            "Epoch 50 :cost = 5.8868036 W = 0.9951241 b = 1.238105\n",
            "Epoch 100 :cost = 5.79127 W = 0.99812365 b = 1.0914395\n",
            "Epoch 150 :cost = 5.7119684 W = 1.0008028 b = 0.96044284\n",
            "Epoch 200 :cost = 5.6459413 W = 1.0031956 b = 0.84343934\n",
            "Epoch 250 :cost = 5.5907993 W = 1.0053328 b = 0.7389355\n",
            "Epoch 300 :cost = 5.544608 W = 1.007242 b = 0.6455921\n",
            "Epoch 350 :cost = 5.5057893 W = 1.008947 b = 0.56221986\n",
            "Epoch 400 :cost = 5.473066 W = 1.01047 b = 0.48775342\n",
            "Epoch 450 :cost = 5.445385 W = 1.0118302 b = 0.42124158\n",
            "Epoch 500 :cost = 5.4219036 W = 1.0130452 b = 0.36183482\n",
            "Epoch 550 :cost = 5.4019227 W = 1.0141305 b = 0.30877408\n",
            "Epoch 600 :cost = 5.3848557 W = 1.0150996 b = 0.2613811\n",
            "Epoch 650 :cost = 5.370246 W = 1.0159653 b = 0.21905078\n",
            "Epoch 700 :cost = 5.3576994 W = 1.0167387 b = 0.18124203\n",
            "Epoch 750 :cost = 5.3468933 W = 1.0174294 b = 0.14747237\n",
            "Epoch 800 :cost = 5.337558 W = 1.0180461 b = 0.11730931\n",
            "Epoch 850 :cost = 5.3294754 W = 1.0185971 b = 0.090368524\n",
            "Epoch 900 :cost = 5.322459 W = 1.0190892 b = 0.06630575\n",
            "Epoch 950 :cost = 5.3163586 W = 1.0195289 b = 0.044813294\n",
            "Epoch 1000 :cost = 5.3110332 W = 1.0199214 b = 0.02561658\n"
          ]
        }
      ],
      "source": [
        "with tf.Session() as sess:\n",
        "  \n",
        "  sess.run(init)\n",
        "\n",
        "  for epoch in range(training_epochs):\n",
        "\n",
        "    for(_x, _y) in zip(x,y):\n",
        "      sess.run(optimizer,feed_dict = {X: _x, Y: _y})\n",
        "               \n",
        "    if (epoch + 1) % 50 == 0:\n",
        "      c = sess.run(cost,feed_dict = {X : x, Y: y })\n",
        "      print(\"Epoch\",(epoch + 1),\":cost =\", c , \"W =\",sess.run(W), \"b =\", sess.run(b))\n",
        "  \n",
        "  training_cost = sess.run(cost, feed_dict = {X : x,Y: y})\n",
        "  weight = sess.run(W)\n",
        "  bias = sess.run(b)"
      ]
    },
    {
      "cell_type": "code",
      "execution_count": null,
      "metadata": {
        "colab": {
          "base_uri": "https://localhost:8080/"
        },
        "id": "1EQVDHxM7iRv",
        "outputId": "0c452e52-eb0d-4024-c7bf-3e27a549401d"
      },
      "outputs": [
        {
          "name": "stdout",
          "output_type": "stream",
          "text": [
            "Training cost = 5.3110332 Weight = 1.0199214 bias = 0.02561658 \n",
            "\n"
          ]
        }
      ],
      "source": [
        "predictions = weight * x + bias\n",
        "print(\"Training cost =\", training_cost, \"Weight =\", weight, \"bias =\", bias, \"\\n\")"
      ]
    },
    {
      "cell_type": "code",
      "execution_count": null,
      "metadata": {
        "colab": {
          "base_uri": "https://localhost:8080/",
          "height": 281
        },
        "id": "EYCi35qM8jDX",
        "outputId": "af7ac802-9540-46c5-a272-aee2780bf538"
      },
      "outputs": [
        {
          "data": {
            "image/png": "[encoded data removed]",
            "text/plain": [
              "<Figure size 432x288 with 1 Axes>"
            ]
          },
          "metadata": {
            "needs_background": "light"
          },
          "output_type": "display_data"
        }
      ],
      "source": [
        "#Result\n",
        "plt.plot(x,y,'ro',label = \"Original data\")\n",
        "plt.plot(x, predictions, label = \"Fitted line\" )\n",
        "plt.title(\"Linear Regression result\")\n",
        "plt.legend()\n",
        "plt.show()\n"
      ]
    },
    {
      "cell_type": "markdown",
      "metadata": {
        "id": "B8Lp-6gq8rs4"
      },
      "source": [
        "<br><br><br><strong>Assignment 2</strong>: Write a program to creating a Linear Regression Model as an ANN with TensorFlow by using following data set."
      ]
    },
    {
      "cell_type": "code",
      "execution_count": null,
      "metadata": {
        "colab": {
          "base_uri": "https://localhost:8080/",
          "height": 403
        },
        "id": "7d_yu4qo8nMZ",
        "outputId": "6a0c8823-9fd8-4bd6-f29d-1925498e3b01"
      },
      "outputs": [
        {
          "data": {
            "text/html": [
              "\n",
              "  <div id=\"df-b111b222-a55d-40ae-8665-f11c5915e4c7\">\n",
              "    <div class=\"colab-df-container\">\n",
              "      <div>\n",
              "<style scoped>\n",
              "    .dataframe tbody tr th:only-of-type {\n",
              "        vertical-align: middle;\n",
              "    }\n",
              "\n",
              "    .dataframe tbody tr th {\n",
              "        vertical-align: top;\n",
              "    }\n",
              "\n",
              "    .dataframe thead th {\n",
              "        text-align: right;\n",
              "    }\n",
              "</style>\n",
              "<table border=\"1\" class=\"dataframe\">\n",
              "  <thead>\n",
              "    <tr style=\"text-align: right;\">\n",
              "      <th></th>\n",
              "      <th>station</th>\n",
              "      <th>Date</th>\n",
              "      <th>Present_Tmax</th>\n",
              "      <th>Present_Tmin</th>\n",
              "      <th>LDAPS_RHmin</th>\n",
              "      <th>LDAPS_RHmax</th>\n",
              "      <th>LDAPS_Tmax_lapse</th>\n",
              "      <th>LDAPS_Tmin_lapse</th>\n",
              "      <th>LDAPS_WS</th>\n",
              "      <th>LDAPS_LH</th>\n",
              "      <th>...</th>\n",
              "      <th>LDAPS_PPT2</th>\n",
              "      <th>LDAPS_PPT3</th>\n",
              "      <th>LDAPS_PPT4</th>\n",
              "      <th>lat</th>\n",
              "      <th>lon</th>\n",
              "      <th>DEM</th>\n",
              "      <th>Slope</th>\n",
              "      <th>Solar radiation</th>\n",
              "      <th>Next_Tmax</th>\n",
              "      <th>Next_Tmin</th>\n",
              "    </tr>\n",
              "  </thead>\n",
              "  <tbody>\n",
              "    <tr>\n",
              "      <th>0</th>\n",
              "      <td>1.0</td>\n",
              "      <td>2013-06-30</td>\n",
              "      <td>28.7</td>\n",
              "      <td>21.4</td>\n",
              "      <td>58.255688</td>\n",
              "      <td>91.116364</td>\n",
              "      <td>28.074101</td>\n",
              "      <td>23.006936</td>\n",
              "      <td>6.818887</td>\n",
              "      <td>69.451805</td>\n",
              "      <td>...</td>\n",
              "      <td>0.0</td>\n",
              "      <td>0.0</td>\n",
              "      <td>0.0</td>\n",
              "      <td>37.6046</td>\n",
              "      <td>126.991</td>\n",
              "      <td>212.3350</td>\n",
              "      <td>2.7850</td>\n",
              "      <td>5992.895996</td>\n",
              "      <td>29.1</td>\n",
              "      <td>21.2</td>\n",
              "    </tr>\n",
              "    <tr>\n",
              "      <th>1</th>\n",
              "      <td>2.0</td>\n",
              "      <td>2013-06-30</td>\n",
              "      <td>31.9</td>\n",
              "      <td>21.6</td>\n",
              "      <td>52.263397</td>\n",
              "      <td>90.604721</td>\n",
              "      <td>29.850689</td>\n",
              "      <td>24.035009</td>\n",
              "      <td>5.691890</td>\n",
              "      <td>51.937448</td>\n",
              "      <td>...</td>\n",
              "      <td>0.0</td>\n",
              "      <td>0.0</td>\n",
              "      <td>0.0</td>\n",
              "      <td>37.6046</td>\n",
              "      <td>127.032</td>\n",
              "      <td>44.7624</td>\n",
              "      <td>0.5141</td>\n",
              "      <td>5869.312500</td>\n",
              "      <td>30.5</td>\n",
              "      <td>22.5</td>\n",
              "    </tr>\n",
              "    <tr>\n",
              "      <th>2</th>\n",
              "      <td>3.0</td>\n",
              "      <td>2013-06-30</td>\n",
              "      <td>31.6</td>\n",
              "      <td>23.3</td>\n",
              "      <td>48.690479</td>\n",
              "      <td>83.973587</td>\n",
              "      <td>30.091292</td>\n",
              "      <td>24.565633</td>\n",
              "      <td>6.138224</td>\n",
              "      <td>20.573050</td>\n",
              "      <td>...</td>\n",
              "      <td>0.0</td>\n",
              "      <td>0.0</td>\n",
              "      <td>0.0</td>\n",
              "      <td>37.5776</td>\n",
              "      <td>127.058</td>\n",
              "      <td>33.3068</td>\n",
              "      <td>0.2661</td>\n",
              "      <td>5863.555664</td>\n",
              "      <td>31.1</td>\n",
              "      <td>23.9</td>\n",
              "    </tr>\n",
              "    <tr>\n",
              "      <th>3</th>\n",
              "      <td>4.0</td>\n",
              "      <td>2013-06-30</td>\n",
              "      <td>32.0</td>\n",
              "      <td>23.4</td>\n",
              "      <td>58.239788</td>\n",
              "      <td>96.483688</td>\n",
              "      <td>29.704629</td>\n",
              "      <td>23.326177</td>\n",
              "      <td>5.650050</td>\n",
              "      <td>65.727144</td>\n",
              "      <td>...</td>\n",
              "      <td>0.0</td>\n",
              "      <td>0.0</td>\n",
              "      <td>0.0</td>\n",
              "      <td>37.6450</td>\n",
              "      <td>127.022</td>\n",
              "      <td>45.7160</td>\n",
              "      <td>2.5348</td>\n",
              "      <td>5856.964844</td>\n",
              "      <td>31.7</td>\n",
              "      <td>24.3</td>\n",
              "    </tr>\n",
              "    <tr>\n",
              "      <th>4</th>\n",
              "      <td>5.0</td>\n",
              "      <td>2013-06-30</td>\n",
              "      <td>31.4</td>\n",
              "      <td>21.9</td>\n",
              "      <td>56.174095</td>\n",
              "      <td>90.155128</td>\n",
              "      <td>29.113934</td>\n",
              "      <td>23.486480</td>\n",
              "      <td>5.735004</td>\n",
              "      <td>107.965535</td>\n",
              "      <td>...</td>\n",
              "      <td>0.0</td>\n",
              "      <td>0.0</td>\n",
              "      <td>0.0</td>\n",
              "      <td>37.5507</td>\n",
              "      <td>127.135</td>\n",
              "      <td>35.0380</td>\n",
              "      <td>0.5055</td>\n",
              "      <td>5859.552246</td>\n",
              "      <td>31.2</td>\n",
              "      <td>22.5</td>\n",
              "    </tr>\n",
              "  </tbody>\n",
              "</table>\n",
              "<p>5 rows × 25 columns</p>\n",
              "</div>\n",
              "      <button class=\"colab-df-convert\" onclick=\"convertToInteractive('df-b111b222-a55d-40ae-8665-f11c5915e4c7')\"\n",
              "              title=\"Convert this dataframe to an interactive table.\"\n",
              "              style=\"display:none;\">\n",
              "        \n",
              "  <svg xmlns=\"http://www.w3.org/2000/svg\" height=\"24px\"viewBox=\"0 0 24 24\"\n",
              "       width=\"24px\">\n",
              "    <path d=\"M0 0h24v24H0V0z\" fill=\"none\"/>\n",
              "    <path d=\"M18.56 5.44l.94 2.06.94-2.06 2.06-.94-2.06-.94-.94-2.06-.94 2.06-2.06.94zm-11 1L8.5 8.5l.94-2.06 2.06-.94-2.06-.94L8.5 2.5l-.94 2.06-2.06.94zm10 10l.94 2.06.94-2.06 2.06-.94-2.06-.94-.94-2.06-.94 2.06-2.06.94z\"/><path d=\"M17.41 7.96l-1.37-1.37c-.4-.4-.92-.59-1.43-.59-.52 0-1.04.2-1.43.59L10.3 9.45l-7.72 7.72c-.78.78-.78 2.05 0 2.83L4 21.41c.39.39.9.59 1.41.59.51 0 1.02-.2 1.41-.59l7.78-7.78 2.81-2.81c.8-.78.8-2.07 0-2.86zM5.41 20L4 18.59l7.72-7.72 1.47 1.35L5.41 20z\"/>\n",
              "  </svg>\n",
              "      </button>\n",
              "      \n",
              "  <style>\n",
              "    .colab-df-container {\n",
              "      display:flex;\n",
              "      flex-wrap:wrap;\n",
              "      gap: 12px;\n",
              "    }\n",
              "\n",
              "    .colab-df-convert {\n",
              "      background-color: #E8F0FE;\n",
              "      border: none;\n",
              "      border-radius: 50%;\n",
              "      cursor: pointer;\n",
              "      display: none;\n",
              "      fill: #1967D2;\n",
              "      height: 32px;\n",
              "      padding: 0 0 0 0;\n",
              "      width: 32px;\n",
              "    }\n",
              "\n",
              "    .colab-df-convert:hover {\n",
              "      background-color: #E2EBFA;\n",
              "      box-shadow: 0px 1px 2px rgba(60, 64, 67, 0.3), 0px 1px 3px 1px rgba(60, 64, 67, 0.15);\n",
              "      fill: #174EA6;\n",
              "    }\n",
              "\n",
              "    [theme=dark] .colab-df-convert {\n",
              "      background-color: #3B4455;\n",
              "      fill: #D2E3FC;\n",
              "    }\n",
              "\n",
              "    [theme=dark] .colab-df-convert:hover {\n",
              "      background-color: #434B5C;\n",
              "      box-shadow: 0px 1px 3px 1px rgba(0, 0, 0, 0.15);\n",
              "      filter: drop-shadow(0px 1px 2px rgba(0, 0, 0, 0.3));\n",
              "      fill: #FFFFFF;\n",
              "    }\n",
              "  </style>\n",
              "\n",
              "      <script>\n",
              "        const buttonEl =\n",
              "          document.querySelector('#df-b111b222-a55d-40ae-8665-f11c5915e4c7 button.colab-df-convert');\n",
              "        buttonEl.style.display =\n",
              "          google.colab.kernel.accessAllowed ? 'block' : 'none';\n",
              "\n",
              "        async function convertToInteractive(key) {\n",
              "          const element = document.querySelector('#df-b111b222-a55d-40ae-8665-f11c5915e4c7');\n",
              "          const dataTable =\n",
              "            await google.colab.kernel.invokeFunction('convertToInteractive',\n",
              "                                                     [key], {});\n",
              "          if (!dataTable) return;\n",
              "\n",
              "          const docLinkHtml = 'Like what you see? Visit the ' +\n",
              "            '<a target=\"_blank\" href=https://colab.research.google.com/notebooks/data_table.ipynb>data table notebook</a>'\n",
              "            + ' to learn more about interactive tables.';\n",
              "          element.innerHTML = '';\n",
              "          dataTable['output_type'] = 'display_data';\n",
              "          await google.colab.output.renderOutput(dataTable, element);\n",
              "          const docLink = document.createElement('div');\n",
              "          docLink.innerHTML = docLinkHtml;\n",
              "          element.appendChild(docLink);\n",
              "        }\n",
              "      </script>\n",
              "    </div>\n",
              "  </div>\n",
              "  "
            ],
            "text/plain": [
              "   station        Date  Present_Tmax  Present_Tmin  LDAPS_RHmin  LDAPS_RHmax  \\\n",
              "0      1.0  2013-06-30          28.7          21.4    58.255688    91.116364   \n",
              "1      2.0  2013-06-30          31.9          21.6    52.263397    90.604721   \n",
              "2      3.0  2013-06-30          31.6          23.3    48.690479    83.973587   \n",
              "3      4.0  2013-06-30          32.0          23.4    58.239788    96.483688   \n",
              "4      5.0  2013-06-30          31.4          21.9    56.174095    90.155128   \n",
              "\n",
              "   LDAPS_Tmax_lapse  LDAPS_Tmin_lapse  LDAPS_WS    LDAPS_LH  ...  LDAPS_PPT2  \\\n",
              "0         28.074101         23.006936  6.818887   69.451805  ...         0.0   \n",
              "1         29.850689         24.035009  5.691890   51.937448  ...         0.0   \n",
              "2         30.091292         24.565633  6.138224   20.573050  ...         0.0   \n",
              "3         29.704629         23.326177  5.650050   65.727144  ...         0.0   \n",
              "4         29.113934         23.486480  5.735004  107.965535  ...         0.0   \n",
              "\n",
              "   LDAPS_PPT3  LDAPS_PPT4      lat      lon       DEM   Slope  \\\n",
              "0         0.0         0.0  37.6046  126.991  212.3350  2.7850   \n",
              "1         0.0         0.0  37.6046  127.032   44.7624  0.5141   \n",
              "2         0.0         0.0  37.5776  127.058   33.3068  0.2661   \n",
              "3         0.0         0.0  37.6450  127.022   45.7160  2.5348   \n",
              "4         0.0         0.0  37.5507  127.135   35.0380  0.5055   \n",
              "\n",
              "   Solar radiation  Next_Tmax  Next_Tmin  \n",
              "0      5992.895996       29.1       21.2  \n",
              "1      5869.312500       30.5       22.5  \n",
              "2      5863.555664       31.1       23.9  \n",
              "3      5856.964844       31.7       24.3  \n",
              "4      5859.552246       31.2       22.5  \n",
              "\n",
              "[5 rows x 25 columns]"
            ]
          },
          "execution_count": 17,
          "metadata": {},
          "output_type": "execute_result"
        }
      ],
      "source": [
        "data = pd.read_csv(\"/content/drive/MyDrive/Datasets/Bias_correction_ucl.csv\")\n",
        "data.head()"
      ]
    },
    {
      "cell_type": "code",
      "execution_count": null,
      "metadata": {
        "id": "HKhFVP0k87kU"
      },
      "outputs": [],
      "source": [
        "#Taking 100 data points of Present_Tmin in x and LDAPS_RHmin in y \n",
        "x = data['Present_Tmin'][:100]\n",
        "y = data['LDAPS_RHmin'][:100]"
      ]
    },
    {
      "cell_type": "code",
      "execution_count": null,
      "metadata": {
        "colab": {
          "base_uri": "https://localhost:8080/"
        },
        "id": "wuB3wDfH8-XN",
        "outputId": "a4f779a8-4803-4fba-d2e6-e3b928b87d97"
      },
      "outputs": [
        {
          "data": {
            "text/plain": [
              "100"
            ]
          },
          "execution_count": 19,
          "metadata": {},
          "output_type": "execute_result"
        }
      ],
      "source": [
        "n = len(x)\n",
        "n"
      ]
    },
    {
      "cell_type": "code",
      "execution_count": null,
      "metadata": {
        "colab": {
          "base_uri": "https://localhost:8080/",
          "height": 295
        },
        "id": "4_acfLHj9RI2",
        "outputId": "457a5062-2e89-4a4b-8465-df8e199134e5"
      },
      "outputs": [
        {
          "data": {
            "image/png": "[encoded data removed]",
            "text/plain": [
              "<Figure size 432x288 with 1 Axes>"
            ]
          },
          "metadata": {
            "needs_background": "light"
          },
          "output_type": "display_data"
        }
      ],
      "source": [
        "plt.scatter(x,y)\n",
        "plt.xlabel('x')\n",
        "plt.ylabel('y')\n",
        "plt.title(\"Training data\")\n",
        "plt.show()"
      ]
    },
    {
      "cell_type": "code",
      "execution_count": null,
      "metadata": {
        "id": "MLkpoD8j9RJA"
      },
      "outputs": [],
      "source": [
        "X = tf.placeholder(\"float\")\n",
        "Y = tf.placeholder(\"float\")"
      ]
    },
    {
      "cell_type": "code",
      "execution_count": null,
      "metadata": {
        "id": "Jmoh5cg29RJA"
      },
      "outputs": [],
      "source": [
        "W = tf.Variable(np.random.randn(), name = \"W\")\n",
        "b = tf.Variable(np.random.randn(), name = \"b\")"
      ]
    },
    {
      "cell_type": "code",
      "execution_count": null,
      "metadata": {
        "id": "Fj0agmWH9RJA"
      },
      "outputs": [],
      "source": [
        "learning_rate = 0.01\n",
        "training_epochs = 1000"
      ]
    },
    {
      "cell_type": "code",
      "execution_count": null,
      "metadata": {
        "id": "cTQrb4eO9RJB"
      },
      "outputs": [],
      "source": [
        "y_pred = tf.add(tf.multiply(X,W),b)"
      ]
    },
    {
      "cell_type": "code",
      "execution_count": null,
      "metadata": {
        "id": "MzcuPgLa9RJB"
      },
      "outputs": [],
      "source": [
        "cost = tf.reduce_sum(tf.pow(y_pred - Y, 2))/ (2*n)"
      ]
    },
    {
      "cell_type": "code",
      "execution_count": null,
      "metadata": {
        "id": "5XuEyMVa9RJB"
      },
      "outputs": [],
      "source": [
        "optimizer = tf.train.GradientDescentOptimizer(learning_rate).minimize(cost)"
      ]
    },
    {
      "cell_type": "code",
      "execution_count": null,
      "metadata": {
        "id": "PnMhndyh9RJB"
      },
      "outputs": [],
      "source": [
        "init = tf.global_variables_initializer()"
      ]
    },
    {
      "cell_type": "code",
      "execution_count": null,
      "metadata": {
        "colab": {
          "base_uri": "https://localhost:8080/"
        },
        "id": "9UvrI4cP9RJB",
        "outputId": "2c37ac3b-8bae-4e37-9704-640c6e698b25"
      },
      "outputs": [
        {
          "name": "stdout",
          "output_type": "stream",
          "text": [
            "Epoch 50 :cost = 105.91285 W = 3.0807202 b = -0.031271797\n",
            "Epoch 100 :cost = 105.63724 W = 3.0682862 b = 0.23169485\n",
            "Epoch 150 :cost = 105.36249 W = 3.0558763 b = 0.49413425\n",
            "Epoch 200 :cost = 105.08895 W = 3.0434916 b = 0.7560488\n",
            "Epoch 250 :cost = 104.81652 W = 3.0311317 b = 1.0174397\n",
            "Epoch 300 :cost = 104.5451 W = 3.0187964 b = 1.278306\n",
            "Epoch 350 :cost = 104.27492 W = 3.0064864 b = 1.5386484\n",
            "Epoch 400 :cost = 104.00562 W = 2.9942 b = 1.7984744\n",
            "Epoch 450 :cost = 103.73752 W = 2.981939 b = 2.0577762\n",
            "Epoch 500 :cost = 103.470505 W = 2.9697025 b = 2.3165643\n",
            "Epoch 550 :cost = 103.20443 W = 2.9574904 b = 2.5748208\n",
            "Epoch 600 :cost = 102.93957 W = 2.945303 b = 2.8325703\n",
            "Epoch 650 :cost = 102.675674 W = 2.9331396 b = 3.0898042\n",
            "Epoch 700 :cost = 102.41286 W = 2.921001 b = 3.346521\n",
            "Epoch 750 :cost = 102.15107 W = 2.908886 b = 3.602728\n",
            "Epoch 800 :cost = 101.8903 W = 2.8967953 b = 3.858423\n",
            "Epoch 850 :cost = 101.630684 W = 2.8847291 b = 4.1136065\n",
            "Epoch 900 :cost = 101.37187 W = 2.8726857 b = 4.368296\n",
            "Epoch 950 :cost = 101.114265 W = 2.8606677 b = 4.6224556\n",
            "Epoch 1000 :cost = 100.85767 W = 2.8486733 b = 4.8761177\n"
          ]
        }
      ],
      "source": [
        "with tf.Session() as sess:\n",
        "  \n",
        "  sess.run(init)\n",
        "\n",
        "  for epoch in range(training_epochs):\n",
        "\n",
        "    for(_x, _y) in zip(x,y):\n",
        "      sess.run(optimizer,feed_dict = {X: _x, Y: _y})\n",
        "               \n",
        "    if (epoch + 1) % 50 == 0:\n",
        "      c = sess.run(cost,feed_dict = {X : x, Y: y })\n",
        "      print(\"Epoch\",(epoch + 1),\":cost =\", c , \"W =\",sess.run(W), \"b =\", sess.run(b))\n",
        "  \n",
        "  training_cost = sess.run(cost, feed_dict = {X : x,Y: y})\n",
        "  weight = sess.run(W)\n",
        "  bias = sess.run(b)"
      ]
    },
    {
      "cell_type": "code",
      "execution_count": null,
      "metadata": {
        "colab": {
          "base_uri": "https://localhost:8080/"
        },
        "id": "IOm_Ec-59RJB",
        "outputId": "31d7f483-127d-4009-d2d8-6ea8a820f62f"
      },
      "outputs": [
        {
          "name": "stdout",
          "output_type": "stream",
          "text": [
            "Training cost = 100.85767 Weight = 2.8486733 bias = 4.8761177 \n",
            "\n"
          ]
        }
      ],
      "source": [
        "predictions = weight * x + bias\n",
        "print(\"Training cost =\", training_cost, \"Weight =\", weight, \"bias =\", bias, \"\\n\")"
      ]
    },
    {
      "cell_type": "code",
      "execution_count": null,
      "metadata": {
        "colab": {
          "base_uri": "https://localhost:8080/",
          "height": 281
        },
        "id": "yLe0f4C79RJC",
        "outputId": "1668338a-6400-43f9-d274-3144f915f848"
      },
      "outputs": [
        {
          "data": {
            "image/png": "[encoded data removed]",
            "text/plain": [
              "<Figure size 432x288 with 1 Axes>"
            ]
          },
          "metadata": {
            "needs_background": "light"
          },
          "output_type": "display_data"
        }
      ],
      "source": [
        "#Result\n",
        "plt.plot(x,y,'ro',label = \"Original data\")\n",
        "plt.plot(x, predictions, label = \"Fitted line\" )\n",
        "plt.title(\"Linear Regression result\")\n",
        "plt.legend()\n",
        "plt.show()\n"
      ]
    },
    {
      "cell_type": "code",
      "execution_count": null,
      "metadata": {
        "id": "_r50Ja6z9XO2"
      },
      "outputs": [],
      "source": []
    }
  ],
  "metadata": {
    "colab": {
      "provenance": []
    },
    "kernelspec": {
      "display_name": "Python 3",
      "name": "python3"
    },
    "language_info": {
      "name": "python"
    }
  },
  "nbformat": 4,
  "nbformat_minor": 0
}
