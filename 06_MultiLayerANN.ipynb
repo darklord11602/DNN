{
  "cells": [
    {
      "attachments": {},
      "cell_type": "markdown",
      "metadata": {},
      "source": [
        "## Multi layer Artificial Neural Network (ANN)"
      ]
    },
    {
      "attachments": {},
      "cell_type": "markdown",
      "metadata": {
        "id": "LrIaRQQg_g9D"
      },
      "source": [
        "Creating a multi layer ANN with TensorFlow, adding input layer to model using the model's add method and then setting input shape to be the number of columns in the feature dataset, four hidden layers of size 64, 32, 16 and 8 to the model with the first having a ReLU activation function and an output layer with one unit"
      ]
    },
    {
      "cell_type": "code",
      "execution_count": null,
      "metadata": {
        "colab": {
          "base_uri": "https://localhost:8080/"
        },
        "id": "2J27LpfR-1_A",
        "outputId": "4fb8d235-d4ba-4d14-a916-cb7cad3e22ca"
      },
      "outputs": [
        {
          "name": "stdout",
          "output_type": "stream",
          "text": [
            "Epoch 1/10\n",
            "3/3 [==============================] - 3s 345ms/step - loss: 0.6149 - accuracy: 0.3646 - val_loss: 0.3966 - val_accuracy: 0.2083\n",
            "Epoch 2/10\n",
            "3/3 [==============================] - 0s 20ms/step - loss: 0.4748 - accuracy: 0.3646 - val_loss: 0.2684 - val_accuracy: 0.2500\n",
            "Epoch 3/10\n",
            "3/3 [==============================] - 0s 19ms/step - loss: 0.4134 - accuracy: 0.5521 - val_loss: 0.1446 - val_accuracy: 0.4583\n",
            "Epoch 4/10\n",
            "3/3 [==============================] - 0s 20ms/step - loss: 0.3381 - accuracy: 0.7083 - val_loss: 0.0182 - val_accuracy: 0.5000\n",
            "Epoch 5/10\n",
            "3/3 [==============================] - 0s 22ms/step - loss: 0.2638 - accuracy: 0.7188 - val_loss: -0.1192 - val_accuracy: 0.5000\n",
            "Epoch 6/10\n",
            "3/3 [==============================] - 0s 19ms/step - loss: 0.1972 - accuracy: 0.7188 - val_loss: -0.2462 - val_accuracy: 0.4583\n",
            "Epoch 7/10\n",
            "3/3 [==============================] - 0s 28ms/step - loss: 0.1281 - accuracy: 0.6562 - val_loss: -0.3722 - val_accuracy: 0.3750\n",
            "Epoch 8/10\n",
            "3/3 [==============================] - 0s 21ms/step - loss: 0.0567 - accuracy: 0.4792 - val_loss: -0.5101 - val_accuracy: 0.3333\n",
            "Epoch 9/10\n",
            "3/3 [==============================] - 0s 20ms/step - loss: -0.0224 - accuracy: 0.4062 - val_loss: -0.6525 - val_accuracy: 0.2917\n",
            "Epoch 10/10\n",
            "3/3 [==============================] - 0s 21ms/step - loss: -0.0981 - accuracy: 0.3750 - val_loss: -0.8057 - val_accuracy: 0.2917\n",
            "1/1 [==============================] - 0s 27ms/step - loss: -0.4018 - accuracy: 0.3000\n",
            "Test accuracy: 0.30000001192092896\n"
          ]
        }
      ],
      "source": [
        "import tensorflow as tf\n",
        "from sklearn.datasets import load_iris\n",
        "from sklearn.model_selection import train_test_split\n",
        "import matplotlib.pyplot as plt\n",
        "\n",
        "# Load the iris dataset\n",
        "iris = load_iris()\n",
        "X = iris.data\n",
        "y = iris.target\n",
        "\n",
        "# Split the data into training and testing sets\n",
        "X_train, X_test, y_train, y_test = train_test_split(X, y, test_size=0.2, random_state=42)\n",
        "\n",
        "# Define the model architecture\n",
        "model = tf.keras.Sequential([\n",
        "    tf.keras.layers.InputLayer(input_shape=(X.shape[1],)),\n",
        "    tf.keras.layers.Dense(64, activation='relu'),\n",
        "    tf.keras.layers.Dense(32, activation='relu'),\n",
        "    tf.keras.layers.Dense(16, activation='relu'),\n",
        "    tf.keras.layers.Dense(8, activation='relu'),\n",
        "    tf.keras.layers.Dense(1)\n",
        "])\n",
        "\n",
        "# Compile the model\n",
        "model.compile(optimizer='adam',\n",
        "              loss=tf.keras.losses.BinaryCrossentropy(from_logits=True),\n",
        "              metrics=['accuracy'])\n",
        "\n",
        "# Fit the model to the training data\n",
        "history = model.fit(X_train, y_train, epochs=10, validation_split=0.2)\n",
        "\n",
        "# Evaluate the model on the testing data\n",
        "test_loss, test_acc = model.evaluate(X_test, y_test)\n",
        "\n",
        "print('Test accuracy:', test_acc)\n"
      ]
    },
    {
      "cell_type": "code",
      "execution_count": null,
      "metadata": {
        "colab": {
          "base_uri": "https://localhost:8080/",
          "height": 279
        },
        "id": "2DXk5DFNDl2B",
        "outputId": "24f09c49-2f62-48dc-c9a4-3e3f86e55197"
      },
      "outputs": [
        {
          "data": {
            "image/png": "[encoded data removed]",
            "text/plain": [
              "<Figure size 432x288 with 1 Axes>"
            ]
          },
          "metadata": {
            "needs_background": "light"
          },
          "output_type": "display_data"
        }
      ],
      "source": [
        "# Plot the training and validation accuracy over time\n",
        "plt.plot(history.history['accuracy'], label='Training accuracy')\n",
        "plt.plot(history.history['val_accuracy'], label='Validation accuracy')\n",
        "plt.xlabel('Epoch')\n",
        "plt.ylabel('Accuracy')\n",
        "plt.legend(loc='lower right')\n",
        "plt.show()"
      ]
    }
  ],
  "metadata": {
    "colab": {
      "provenance": []
    },
    "kernelspec": {
      "display_name": "Python 3",
      "name": "python3"
    },
    "language_info": {
      "name": "python"
    }
  },
  "nbformat": 4,
  "nbformat_minor": 0
}
